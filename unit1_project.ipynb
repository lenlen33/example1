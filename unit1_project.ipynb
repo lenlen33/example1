{
 "cells": [
  {
   "cell_type": "markdown",
   "metadata": {},
   "source": [
    "<img src=\"http://imgur.com/1ZcRyrc.png\" style=\"float: left; margin: 20px; height: 55px\">\n",
    "\n",
    "# Project 1: Python Coding Exercises\n",
    "\n",
    "_Authors:  Joseph Nelson (DC)_\n",
    "\n",
    "---"
   ]
  },
  {
   "cell_type": "markdown",
   "metadata": {},
   "source": [
    "The following code challenges are drawn from common exercises used in technical interviews. This project is more about turning ideas into Python code than it is about developing algorithms, so we have provided \"pseudocode\" for the more challenging problems."
   ]
  },
  {
   "cell_type": "markdown",
   "metadata": {},
   "source": [
    "### Challenge 1: Largest Palindrome\n",
    "A palindromic number reads the same both ways. For example, 1234321 is a palindrome. The largest palindrome made from the product of two two-digit numbers is 9009 = 91 × 99. Find the largest palindrome made from the product of two three-digit numbers.\n",
    "\n",
    "Suggested algorithm:\n",
    "\n",
    "```\n",
    "- Initialize a variable `result` to 0.\n",
    "- For each number A 100 through 999:\n",
    "    - For each number B 100 through 999:\n",
    "        - Multiply A and B.\n",
    "        - Turn that product into a string (use `str` as a function).\n",
    "        - Reverse the string (use `my_string[::-1]`).\n",
    "        - If the string and its reverse are the same and the product is\n",
    "        greater than `result`,  set `result` to that new value.\n",
    "```"
   ]
  },
  {
   "cell_type": "code",
   "execution_count": 23,
   "metadata": {},
   "outputs": [
    {
     "name": "stdout",
     "output_type": "stream",
     "text": [
      "10000\n",
      "10000\n"
     ]
    },
    {
     "ename": "NameError",
     "evalue": "name 'result' is not defined",
     "output_type": "error",
     "traceback": [
      "\u001b[0;31m---------------------------------------------------------------------------\u001b[0m",
      "\u001b[0;31mNameError\u001b[0m                                 Traceback (most recent call last)",
      "\u001b[0;32m<ipython-input-23-076ca243311e>\u001b[0m in \u001b[0;36m<module>\u001b[0;34m()\u001b[0m\n\u001b[1;32m      7\u001b[0m         \u001b[0mmystring\u001b[0m \u001b[0;34m[\u001b[0m\u001b[0;34m:\u001b[0m\u001b[0;34m:\u001b[0m\u001b[0;34m-\u001b[0m\u001b[0;36m1\u001b[0m\u001b[0;34m]\u001b[0m   \u001b[0;31m#reversing mystring to see if it is a palindrome\u001b[0m\u001b[0;34m\u001b[0m\u001b[0m\n\u001b[1;32m      8\u001b[0m         \u001b[0mprint\u001b[0m \u001b[0;34m(\u001b[0m\u001b[0mmystring\u001b[0m\u001b[0;34m)\u001b[0m\u001b[0;34m\u001b[0m\u001b[0m\n\u001b[0;32m----> 9\u001b[0;31m         \u001b[0mmystring\u001b[0m \u001b[0;34m=\u001b[0m \u001b[0mresult\u001b[0m\u001b[0;34m\u001b[0m\u001b[0m\n\u001b[0m\u001b[1;32m     10\u001b[0m \u001b[0;34m\u001b[0m\u001b[0m\n\u001b[1;32m     11\u001b[0m \u001b[0;34m\u001b[0m\u001b[0m\n",
      "\u001b[0;31mNameError\u001b[0m: name 'result' is not defined"
     ]
    }
   ],
   "source": [
    "variable_1 = 0 #assigning a variable to an intiger\n",
    "for A in range(100,999): #setting up range function for A to span intigers 100-999\n",
    "    for B in range(100,999): #setting up range function for B to span intigers 100-999\n",
    "        C= A*B #multiplying AB\n",
    "        print(C)\n",
    "        mystring = str(C) #converting intiger to string\n",
    "        mystring [::-1]   #reversing mystring to see if it is a palindrome\n",
    "        print (mystring)\n",
    "        mystring = result\n",
    "        \n",
    "        \n",
    "        "
   ]
  },
  {
   "cell_type": "markdown",
   "metadata": {},
   "source": [
    "### Challenge 2: Summation of Primes\n",
    "The sum of the primes below 10 is 2 + 3 + 5 + 7 = 17. Find the sum of all the primes below 2,000.\n",
    "\n",
    "Suggested algorithm:\n",
    "\n",
    "```\n",
    "- Initialize an empty list of primes.\n",
    "\n",
    "- For every number A from 2 to 2,000:\n",
    "    - Set a variable `is_prime` to true.\n",
    "    - For every number B in our list of primes:\n",
    "        - If A divided by B gives no remainder, set `is_prime` to false.\n",
    "        - Optional: Use the command `break` to end the loop over primes at this point.\n",
    "    - If `is_prime` is still true, append A to our list of primes.\n",
    "    \n",
    "- Add up the primes.\n",
    "```"
   ]
  },
  {
   "cell_type": "code",
   "execution_count": 24,
   "metadata": {
    "collapsed": true
   },
   "outputs": [
    {
     "ename": "SyntaxError",
     "evalue": "invalid syntax (<ipython-input-24-cfe66a440b81>, line 3)",
     "output_type": "error",
     "traceback": [
      "\u001b[0;36m  File \u001b[0;32m\"<ipython-input-24-cfe66a440b81>\"\u001b[0;36m, line \u001b[0;32m3\u001b[0m\n\u001b[0;31m    is_prime = for A in range(2,2000):      #setting A to range from 2 to 2,000\u001b[0m\n\u001b[0m                 ^\u001b[0m\n\u001b[0;31mSyntaxError\u001b[0m\u001b[0;31m:\u001b[0m invalid syntax\n"
     ]
    }
   ],
   "source": [
    "l = list()                              #making an empty list\n",
    "\n",
    "for A in range(2,2000):               #setting A to range from 2 to 2,000\n",
    "                       \n",
    "        \n",
    "    is_prime = True                     #setting is_prime to true\n",
    "    is_prime = for B in list(is_prime): #setting B to range from 2 to 2,000\n",
    "        if (A/B) == 0                    #if is_prime is divided by AB \n",
    "        else is_prime = false           #then is_prime=false\n",
    "    if is_prime = true                  #if is_prime is still true\n",
    "    else append(A)                      #append A list of primes\n",
    "\n",
    "sum(A + B)                              #ADD PRIMES\n",
    "\n",
    "\n",
    "\n",
    "\n",
    "\n",
    "        \n",
    "    \n",
    "\n"
   ]
  },
  {
   "cell_type": "markdown",
   "metadata": {},
   "source": [
    "### Challenge 3: Multiples of 3 and 5\n",
    "If we list all of the natural numbers below 10 that are multiples of 3 or 5, we get 3, 5, 6, and 9. The sum of these multiples is 23. Find the sum of all the multiples of 3 and 5 below 1,000."
   ]
  },
  {
   "cell_type": "code",
   "execution_count": null,
   "metadata": {
    "collapsed": true
   },
   "outputs": [],
   "source": []
  },
  {
   "cell_type": "markdown",
   "metadata": {},
   "source": [
    "### Challenge 4: String Compressor\n",
    "Write a function to perform basic string compression using the counts of repeated characters. (This is called run-length encoding.) For example, the string \"aabcccccaaa\" would become a2b1c5a3. If the “compressed” string would not become smaller than the original string, your method should return the original string. You can assume the string has only uppercase and lowercase letters (a–z). Specify whether your solution is case sensitive or case insensitive and what you would need to change to make it the other.\n",
    "\n",
    "Suggested algorithm:\n",
    "\n",
    "```\n",
    "- Initialize an empty string to hold the compressed version of the input string\n",
    "- Initialize an empty string to hold the character we are currently tallying up\n",
    "- Initialize a counter variable to 0\n",
    "\n",
    "- For each letter in the input string:\n",
    "    - If that letter matches the letter we are counting, increment the counter by 1\n",
    "    - Otherwise:\n",
    "        - If the counter value is greater than 0, add the letter we have been counting\n",
    "        and its count to our compressed string\n",
    "        - Update the letter we are counting\n",
    "        - Set the counter to 1\n",
    "\n",
    "- Append the last letter we were counting and its count to our compressed string\n",
    "```\n",
    "\n",
    "**Suggestion:** Test your function on a few sample inputs. Try to come up with \"edge cases\" that might make it fail (e.g. empty strings, strings with all the same character, strings containing non-alphabetic characters, etc.)"
   ]
  },
  {
   "cell_type": "code",
   "execution_count": null,
   "metadata": {
    "collapsed": true
   },
   "outputs": [],
   "source": []
  },
  {
   "cell_type": "markdown",
   "metadata": {},
   "source": [
    "### Challenge 5: FizzBuzz\n",
    "Write a program that prints all of the numbers from 1 to 100. For multiples of 3, instead of the number, print \"Fizz;\" for multiples of 5, print \"Buzz.\" For numbers that are multiples of both 3 and 5, print \"FizzBuzz.\""
   ]
  },
  {
   "cell_type": "code",
   "execution_count": null,
   "metadata": {
    "collapsed": true
   },
   "outputs": [],
   "source": []
  }
 ],
 "metadata": {
  "anaconda-cloud": {},
  "kernelspec": {
   "display_name": "Python 3",
   "language": "python",
   "name": "python3"
  },
  "language_info": {
   "codemirror_mode": {
    "name": "ipython",
    "version": 3
   },
   "file_extension": ".py",
   "mimetype": "text/x-python",
   "name": "python",
   "nbconvert_exporter": "python",
   "pygments_lexer": "ipython3",
   "version": "3.6.3"
  }
 },
 "nbformat": 4,
 "nbformat_minor": 2
}
